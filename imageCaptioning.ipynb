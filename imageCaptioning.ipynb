{
  "nbformat": 4,
  "nbformat_minor": 0,
  "metadata": {
    "colab": {
      "name": "imageCaptioning_webapi.ipynb",
      "provenance": [],
      "private_outputs": true,
      "collapsed_sections": []
    },
    "kernelspec": {
      "name": "python3",
      "display_name": "Python 3"
    }
  },
  "cells": [
    {
      "cell_type": "code",
      "metadata": {
        "id": "JDAgp_sTX_st",
        "colab_type": "code",
        "colab": {}
      },
      "source": [
        "######## Install Tensorflow version 1.13.2\n",
        "!pip install tensorflow==1.13.2 \n",
        "!pip3 install flask-ngrok"
      ],
      "execution_count": 0,
      "outputs": []
    },
    {
      "cell_type": "code",
      "metadata": {
        "id": "LH2Ikk20YiH_",
        "colab_type": "code",
        "colab": {}
      },
      "source": [
        "######## Official git repo\n",
        "##\n",
        "##     https://www.github.com/purvesh-linux11/imageCaptioning.git\n",
        "##\n",
        "##### clone project moduls\n",
        "\n",
        "!git clone https://www.github.com/purvesh-linux11/imageCaptioning.git\n",
        "!cp -r /content/imageCaptioning/* /content/"
      ],
      "execution_count": 0,
      "outputs": []
    },
    {
      "cell_type": "code",
      "metadata": {
        "id": "2AkEa0BupDsF",
        "colab_type": "code",
        "colab": {}
      },
      "source": [
        "##### copy model from drive and extract here\n",
        "\n",
        "!cp -r /content/drive/'My Drive'/MODELS/image_captioning_model.zip /content/  \n",
        "!unzip image_captioning_model.zip\n",
        "!cp -r /content/image_captioning_model/* /content/"
      ],
      "execution_count": 0,
      "outputs": []
    },
    {
      "cell_type": "code",
      "metadata": {
        "id": "sYZGzNViwPQ1",
        "colab_type": "code",
        "colab": {}
      },
      "source": [
        "##### copy photos from drive\n",
        "\n",
        "!cp -r /content/drive/'My Drive'/photos/* /content/photos/"
      ],
      "execution_count": 0,
      "outputs": []
    },
    {
      "cell_type": "code",
      "metadata": {
        "id": "xDwlCAOMRG5q",
        "colab_type": "code",
        "colab": {}
      },
      "source": [
        "#############################################################\n",
        "##\n",
        "##\n",
        "## Download Model and place it current directory \n",
        "##                  (Link in Readme file)\n",
        "##\n",
        "##############################################################"
      ],
      "execution_count": 0,
      "outputs": []
    },
    {
      "cell_type": "code",
      "metadata": {
        "id": "-ErYFuETaEGX",
        "colab_type": "code",
        "colab": {}
      },
      "source": [
        "from __future__ import absolute_import\n",
        "from __future__ import division\n",
        "from __future__ import print_function\n",
        "\n",
        "import math\n",
        "import os\n",
        "from os import listdir, path\n",
        "\n",
        "import tensorflow as tf\n",
        "import cv2\n",
        "import numpy as np\n",
        "import matplotlib.pyplot as plt\n",
        "from IPython import display\n",
        "\n",
        "import PIL.Image\n",
        "import PIL.ImageOps\n",
        "import PIL.ImageFont\n",
        "import PIL.ImageDraw\n",
        "import textwrap\n",
        "from io import BytesIO\n",
        "\n",
        "from im2txt import configuration\n",
        "from im2txt import inference_wrapper\n",
        "from im2txt.inference_utils import caption_generator\n",
        "from im2txt.inference_utils import vocabulary"
      ],
      "execution_count": 0,
      "outputs": []
    },
    {
      "cell_type": "code",
      "metadata": {
        "id": "4qb8Ji6L4wbY",
        "colab_type": "code",
        "colab": {}
      },
      "source": [
        "####### create directories for store usr uploads\n",
        "!mkdir -p /content/user_img/\n",
        "!mkdir -p /content/user_zip/\n",
        "!mkdir -p /content/user_download/"
      ],
      "execution_count": 0,
      "outputs": []
    },
    {
      "cell_type": "code",
      "metadata": {
        "id": "2s3LjPbV9iv_",
        "colab_type": "code",
        "colab": {}
      },
      "source": [
        "#########  send generated logs to download directory\n",
        "def send_logs():\n",
        "  !mv /content/results/logs.txt /content/user_download/\n",
        "  return"
      ],
      "execution_count": 0,
      "outputs": []
    },
    {
      "cell_type": "code",
      "metadata": {
        "id": "1W16t6v_Ja5e",
        "colab_type": "code",
        "colab": {}
      },
      "source": [
        "######  clean usr directories to new uploads\n",
        "def clear_dir():\n",
        "  !rm -rf /content/photos/*\n",
        "  !rm -rf /content/results/*"
      ],
      "execution_count": 0,
      "outputs": []
    },
    {
      "cell_type": "code",
      "metadata": {
        "id": "fN-tgbJMbNHt",
        "colab_type": "code",
        "colab": {}
      },
      "source": [
        "# Choose the trained model --> current is 2\n",
        "clear_dir()   ##### remove git example\n",
        "model_number = \"2\"\n",
        "model_path = \"/content/model.ckpt-\"+model_number+\"000000\"   # Give model path\n",
        "vocab_path = \"/content/word_counts\"+model_number+\".txt\"     # Give word_counts file path\n",
        "tf.logging.set_verbosity(tf.logging.INFO)\n",
        "\n",
        "# Build the inference graph.\n",
        "g = tf.Graph()\n",
        "with g.as_default():\n",
        "    model = inference_wrapper.InferenceWrapper()\n",
        "    restore_fn = model.build_graph_from_config(configuration.ModelConfig(), model_path)\n",
        "g.finalize()\n",
        "\n",
        "# Create the vocabulary.\n",
        "vocab = vocabulary.Vocabulary(vocab_path) \n",
        "\n",
        "#######################################################\n",
        "### if tensorflow version is <1.13.2 then you have to check variables name as per tensorflow version\n",
        "\n",
        "OLD_CHECKPOINT_FILE = \"/content/model.ckpt-2000000\"\n",
        "NEW_CHECKPOINT_FILE = \"/content/model.ckpt-2000000\"\n",
        "\n",
        "import tensorflow as tf\n",
        "vars_to_rename = {\n",
        "    \"lstm/BasicLSTMCell/Linear/Matrix\": \"lstm/basic_lstm_cell/kernel\",\n",
        "    \"lstm/BasicLSTMCell/Linear/Bias\": \"lstm/basic_lstm_cell/bias\",\n",
        "}\n",
        "new_checkpoint_vars = {}\n",
        "reader = tf.train.NewCheckpointReader(OLD_CHECKPOINT_FILE)\n",
        "for old_name in reader.get_variable_to_shape_map():\n",
        "  if old_name in vars_to_rename:\n",
        "    new_name = vars_to_rename[old_name]\n",
        "  else:\n",
        "    new_name = old_name\n",
        "  new_checkpoint_vars[new_name] = tf.Variable(reader.get_tensor(old_name))\n",
        "\n",
        "init = tf.global_variables_initializer()\n",
        "saver = tf.train.Saver(new_checkpoint_vars)\n",
        "\n",
        "with tf.Session() as sess:\n",
        "  sess.run(init)\n",
        "  saver.save(sess, NEW_CHECKPOINT_FILE)\n",
        "\n",
        "#######################################################\n",
        "\n",
        "sess = tf.Session(graph=g)\n",
        "# Load the model from checkpoint.\n",
        "restore_fn(sess)\n",
        "\n",
        "# Prepare the caption generator. Here we are implicitly using the default\n",
        "# beam search parameters. See caption_generator.py for a description of the\n",
        "# available beam search parameters.\n",
        "generator = caption_generator.CaptionGenerator(model, vocab)"
      ],
      "execution_count": 0,
      "outputs": []
    },
    {
      "cell_type": "code",
      "metadata": {
        "id": "DIZLzNZIbgU-",
        "colab_type": "code",
        "colab": {}
      },
      "source": [
        "def generator_caption():\n",
        "    image_path = \"./photos/\"    #### provide path where image is stored\n",
        "    filename = listdir(image_path)\n",
        "    filenames = [f for f in filename if '.jpg' in f or '.png' in f or '.jpeg' in f]\n",
        "    store = open('/content/results/logs.txt','w')   #### directory to store captions file\n",
        "\n",
        "    for file in filenames:\n",
        "        try:\n",
        "            img = PIL.Image.open(image_path+file).convert('RGBA')\n",
        "            box = PIL.Image.new('RGBA', img.size, (255,255,255,0))\n",
        "            draw = PIL.ImageDraw.Draw(box)\n",
        "            image = open(image_path+file,'rb').read() # Read the image as bytes\n",
        "            captions = generator.beam_search(sess, image)\n",
        "            for i, caption in enumerate(captions):\n",
        "                # Ignore begin and end words.\n",
        "                sentence = [vocab.id_to_word(w) for w in caption.sentence[1:-1]]\n",
        "                sentence = \" \".join(sentence)\n",
        "                if i==0:\n",
        "                  print(file+\" : %s \" % (sentence))\n",
        "                  #create log file image_name--image_caption\n",
        "                  store.write(file+\" : \"+sentence+\"\\n\")\n",
        "        except KeyboardInterrupt:\n",
        "            store.close()\n",
        "            break\n",
        "    store.close()\n",
        "    send_logs()\n",
        "    return"
      ],
      "execution_count": 0,
      "outputs": []
    },
    {
      "cell_type": "markdown",
      "metadata": {
        "id": "jyoRkvvD1tKb",
        "colab_type": "text"
      },
      "source": [
        "# **Flask Server setup**"
      ]
    },
    {
      "cell_type": "code",
      "metadata": {
        "id": "t7L8EuRS12cn",
        "colab_type": "code",
        "colab": {}
      },
      "source": [
        "import os\n",
        "from flask import Flask, flash, request, redirect, url_for\n",
        "from werkzeug.utils import secure_filename\n",
        "from flask_ngrok import run_with_ngrok\n",
        "from flask import send_from_directory\n",
        "from flask import Flask"
      ],
      "execution_count": 0,
      "outputs": []
    },
    {
      "cell_type": "code",
      "metadata": {
        "id": "J1Tib7TG2IEB",
        "colab_type": "code",
        "colab": {}
      },
      "source": [
        "UPLOAD_USER_IMG = '/content/user_img'\n",
        "UPLOAD_USER_ZIP = '/content/user_zip'\n",
        "DOWNLOAD_FILE = '/content/user_download'\n",
        "ALLOWED_EXTENSIONS = {'png', 'jpg', 'jpeg'}\n",
        "ALLOWED_ZIP = {'zip','tar'}"
      ],
      "execution_count": 0,
      "outputs": []
    },
    {
      "cell_type": "code",
      "metadata": {
        "id": "k9HJqbsW6jdz",
        "colab_type": "code",
        "colab": {}
      },
      "source": [
        "#### move contents from user_img to photos\n",
        "def move_img():\n",
        "  !cp -r /content/user_img/* /content/photos/\n",
        "  !rm -rf /content/user_img/*"
      ],
      "execution_count": 0,
      "outputs": []
    },
    {
      "cell_type": "code",
      "metadata": {
        "id": "1U3F4JwgCQ08",
        "colab_type": "code",
        "colab": {}
      },
      "source": [
        "##### extract zip into photos directory\n",
        "def move_zip():\n",
        "  !unzip /content/user_zip/* -d /content/photos/\n",
        "  !rm -rf /content/user_zip/*"
      ],
      "execution_count": 0,
      "outputs": []
    },
    {
      "cell_type": "code",
      "metadata": {
        "id": "J4GXyixl2Qt0",
        "colab_type": "code",
        "colab": {}
      },
      "source": [
        "app = Flask(__name__)\n",
        "run_with_ngrok(app)\n",
        "\n",
        "def allowed_file(filename):\n",
        "    return '.' in filename and \\\n",
        "           filename.rsplit('.', 1)[1].lower() in ALLOWED_EXTENSIONS\n",
        "\n",
        "def allowed_zip(filename):\n",
        "    return '.' in filename and \\\n",
        "           filename.rsplit('.', 1)[1].lower() in ALLOWED_ZIP\n",
        "\n",
        "\n",
        "@app.route('/', methods=['GET', 'POST'])\n",
        "def upload_file():\n",
        "    app.config['UPLOAD_USER_IMG'] = UPLOAD_USER_IMG\n",
        "    app.config['UPLOAD_USER_ZIP'] = UPLOAD_USER_ZIP\n",
        "    app.config['DOWNLOAD_FILE'] = DOWNLOAD_FILE\n",
        "    if request.method == 'POST':\n",
        "        # check if the post request has the file part\n",
        "        if 'file' not in request.files:\n",
        "            flash('No file part')\n",
        "            return redirect(request.url)\n",
        "        file = request.files['file']\n",
        "        # if user does not select file, browser also\n",
        "        # submit an empty part without filename\n",
        "        if file.filename == '':\n",
        "            flash('No selected file')\n",
        "            return redirect(request.url)\n",
        "        if file and allowed_zip(file.filename):\n",
        "            filename = secure_filename(file.filename)\n",
        "            file.save(os.path.join(app.config['UPLOAD_USER_ZIP'], filename))\n",
        "            move_zip()\n",
        "            generator_caption()\n",
        "            clear_dir()\n",
        "            return send_from_directory(app.config['DOWNLOAD_FILE'],'logs.txt',as_attachment=True)\n",
        "        if file and allowed_file(file.filename):\n",
        "            filename = secure_filename(file.filename)\n",
        "            file.save(os.path.join(app.config['UPLOAD_USER_IMG'], filename))\n",
        "            move_img()\n",
        "            generator_caption()\n",
        "            clear_dir()\n",
        "            return send_from_directory(app.config['DOWNLOAD_FILE'],'logs.txt')\n",
        "    \"\"\"\n",
        "    return '''\n",
        "    <!doctype html>\n",
        "    <title>Upload new File</title>\n",
        "    <h1>Upload new File</h1>\n",
        "    <form method=post enctype=multipart/form-data>\n",
        "      <input type=file name=file>\n",
        "      <input type=submit value=Upload><br/>\n",
        "      <h3>Wait some moment to generate caption.</h3>\n",
        "    </form>\n",
        "    '''\n",
        "    \"\"\"\n",
        "    return '''\n",
        "    <!DOCTYPE html>\n",
        "<html>\n",
        "  <head>\n",
        "    <title>image captioning</title>   \n",
        "    <link rel=\"stylesheet\" href=\"https://use.fontawesome.com/releases/v5.4.1/css/all.css\" integrity=\"sha384-5sAR7xN1Nv6T6+dT2mhtzEpVJvfS3NScPQTrOxhwjIuvcA67KV2R5Jz6kr4abQsz\" crossorigin=\"anonymous\">\n",
        "    <style>\n",
        "      html, body {\n",
        "      display: flex;\n",
        "      justify-content: center;\n",
        "      align-items: center;\n",
        "      height: 100%;\n",
        "      }\n",
        "      body, div, p { \n",
        "      padding: 0;\n",
        "      margin: 0;\n",
        "      outline: none;\n",
        "      font-family: Roboto, Arial, sans-serif;\n",
        "      font-size: 16px;\n",
        "      color: #666;\n",
        "      }\n",
        "      body {\n",
        "\t  background-image: url('https://images.unsplash.com/uploads/1412825195419af52b492/8bc72ed7?ixlib=rb-1.2.1&ixid=eyJhcHBfaWQiOjEyMDd9&auto=format&fit=crop&w=751&q=80');\n",
        "  background-repeat: no-repeat;\n",
        "     \n",
        "      background-size:cover;\n",
        "      }\n",
        "      h1 {\n",
        "      margin: 0 0 10px 0;\n",
        "      font-weight: 400;\n",
        "      }\n",
        "      .main-block {\n",
        "      display: flex;\n",
        "      width: 90%;\n",
        "      padding: 10px 0; \n",
        "      border-radius: 5px;\n",
        "      box-shadow: 1px 1px 8px 0px #666; \n",
        "      background: #fff;\n",
        "      }\n",
        "      .block-item {\n",
        "      width: 50%;\n",
        "      padding: 20px; \n",
        "      }\n",
        "      .block-item.right {\n",
        "      border-left: 1px solid #aaa;\n",
        "      }\n",
        "      i {\n",
        "      width: 50px;\n",
        "      font-size: 24px;\n",
        "      }\n",
        "    \n",
        "      }\n",
        "     \n",
        "    </style>\n",
        "  </head>\n",
        "  <body>\n",
        "    <div class=\"main-block\">\n",
        "\t\n",
        "      <div class=\"block-item left\">\n",
        "\t  <form method = post enctype=multipart/form-data>\n",
        "        <h1>Upload your file here:</h1>\n",
        "        <p><small>To get your caption related to image file you provided.</small>\n",
        "        </p>\n",
        "      </div>\n",
        "      <div class=\"block-item right\">\n",
        "     <form method=post enctype=multipart/form-data>\n",
        "      <input type=file name=file>\n",
        "      <input type=submit value=Upload><br/>\n",
        "    </form>\n",
        "      </div>\n",
        "      </div>\n",
        "    </div>\n",
        "  </body>\n",
        "</html>\n",
        "    '''\n",
        "\n",
        "app.run()"
      ],
      "execution_count": 0,
      "outputs": []
    }
  ]
}